{
 "cells": [
  {
   "cell_type": "markdown",
   "id": "38672d5b-ecfd-43ba-b274-3b3ce4dfa8ac",
   "metadata": {},
   "source": [
    "<h1>This is my first jupyter notebook</h1>"
   ]
  },
  {
   "cell_type": "code",
   "execution_count": 1,
   "id": "2309a1c6-eff1-4208-94ac-c38af82a8bad",
   "metadata": {},
   "outputs": [],
   "source": [
    "import matplotlib.pyplot as plt\n",
    "import numpy as np"
   ]
  },
  {
   "cell_type": "code",
   "execution_count": 10,
   "id": "1f9abd88-ccaf-4ea5-b09c-a3203bb58307",
   "metadata": {},
   "outputs": [],
   "source": [
    "#calcuate cost of sequencing 245Mbp at price, $10,000 per 1Mbp\n",
    "cost_2001 = 10000.00\n",
    "cost_2011 = 0.10\n",
    "cost_2021 = 0.01\n",
    "cost = 0.001\n",
    "bp1 = 248  #Mbps to chromosome 1\n",
    "bp2 = 242\n",
    "total = cost*(bp1+bp2)"
   ]
  },
  {
   "cell_type": "code",
   "execution_count": 11,
   "id": "19743a09-d2af-4931-a883-2c198c2d3539",
   "metadata": {},
   "outputs": [
    {
     "data": {
      "text/plain": [
       "0.49"
      ]
     },
     "execution_count": 11,
     "metadata": {},
     "output_type": "execute_result"
    }
   ],
   "source": [
    "total"
   ]
  },
  {
   "cell_type": "code",
   "execution_count": 12,
   "id": "c2eedaec-202d-4d88-b195-c8ec30db46cc",
   "metadata": {},
   "outputs": [],
   "source": [
    "import pandas as pd\n",
    "\n",
    "#read the excel file\n",
    "data = pd.read_excel(r\"C:\\Users\\QBPAM\\Downloads\\CHrompose2.xlsx\")"
   ]
  },
  {
   "cell_type": "code",
   "execution_count": 13,
   "id": "6b97892f-658b-437d-95da-973ff9c4c988",
   "metadata": {},
   "outputs": [
    {
     "data": {
      "text/html": [
       "<div>\n",
       "<style scoped>\n",
       "    .dataframe tbody tr th:only-of-type {\n",
       "        vertical-align: middle;\n",
       "    }\n",
       "\n",
       "    .dataframe tbody tr th {\n",
       "        vertical-align: top;\n",
       "    }\n",
       "\n",
       "    .dataframe thead th {\n",
       "        text-align: right;\n",
       "    }\n",
       "</style>\n",
       "<table border=\"1\" class=\"dataframe\">\n",
       "  <thead>\n",
       "    <tr style=\"text-align: right;\">\n",
       "      <th></th>\n",
       "      <th>chromosomes</th>\n",
       "      <th>basepairs</th>\n",
       "    </tr>\n",
       "  </thead>\n",
       "  <tbody>\n",
       "    <tr>\n",
       "      <th>0</th>\n",
       "      <td>1</td>\n",
       "      <td>248956422</td>\n",
       "    </tr>\n",
       "    <tr>\n",
       "      <th>1</th>\n",
       "      <td>2</td>\n",
       "      <td>242193529</td>\n",
       "    </tr>\n",
       "    <tr>\n",
       "      <th>2</th>\n",
       "      <td>3</td>\n",
       "      <td>198295559</td>\n",
       "    </tr>\n",
       "    <tr>\n",
       "      <th>3</th>\n",
       "      <td>4</td>\n",
       "      <td>190214555</td>\n",
       "    </tr>\n",
       "    <tr>\n",
       "      <th>4</th>\n",
       "      <td>5</td>\n",
       "      <td>181538259</td>\n",
       "    </tr>\n",
       "    <tr>\n",
       "      <th>5</th>\n",
       "      <td>6</td>\n",
       "      <td>170805979</td>\n",
       "    </tr>\n",
       "    <tr>\n",
       "      <th>6</th>\n",
       "      <td>7</td>\n",
       "      <td>159345973</td>\n",
       "    </tr>\n",
       "    <tr>\n",
       "      <th>7</th>\n",
       "      <td>8</td>\n",
       "      <td>145138636</td>\n",
       "    </tr>\n",
       "    <tr>\n",
       "      <th>8</th>\n",
       "      <td>9</td>\n",
       "      <td>138394717</td>\n",
       "    </tr>\n",
       "    <tr>\n",
       "      <th>9</th>\n",
       "      <td>10</td>\n",
       "      <td>133797422</td>\n",
       "    </tr>\n",
       "    <tr>\n",
       "      <th>10</th>\n",
       "      <td>11</td>\n",
       "      <td>135086622</td>\n",
       "    </tr>\n",
       "    <tr>\n",
       "      <th>11</th>\n",
       "      <td>12</td>\n",
       "      <td>133275309</td>\n",
       "    </tr>\n",
       "    <tr>\n",
       "      <th>12</th>\n",
       "      <td>13</td>\n",
       "      <td>114364328</td>\n",
       "    </tr>\n",
       "    <tr>\n",
       "      <th>13</th>\n",
       "      <td>14</td>\n",
       "      <td>107043718</td>\n",
       "    </tr>\n",
       "    <tr>\n",
       "      <th>14</th>\n",
       "      <td>15</td>\n",
       "      <td>101991189</td>\n",
       "    </tr>\n",
       "    <tr>\n",
       "      <th>15</th>\n",
       "      <td>16</td>\n",
       "      <td>90338345</td>\n",
       "    </tr>\n",
       "    <tr>\n",
       "      <th>16</th>\n",
       "      <td>17</td>\n",
       "      <td>83257441</td>\n",
       "    </tr>\n",
       "    <tr>\n",
       "      <th>17</th>\n",
       "      <td>18</td>\n",
       "      <td>80373285</td>\n",
       "    </tr>\n",
       "    <tr>\n",
       "      <th>18</th>\n",
       "      <td>19</td>\n",
       "      <td>58617616</td>\n",
       "    </tr>\n",
       "    <tr>\n",
       "      <th>19</th>\n",
       "      <td>20</td>\n",
       "      <td>64444167</td>\n",
       "    </tr>\n",
       "    <tr>\n",
       "      <th>20</th>\n",
       "      <td>21</td>\n",
       "      <td>46709983</td>\n",
       "    </tr>\n",
       "    <tr>\n",
       "      <th>21</th>\n",
       "      <td>22</td>\n",
       "      <td>50818468</td>\n",
       "    </tr>\n",
       "    <tr>\n",
       "      <th>22</th>\n",
       "      <td>X</td>\n",
       "      <td>156040895</td>\n",
       "    </tr>\n",
       "    <tr>\n",
       "      <th>23</th>\n",
       "      <td>Y</td>\n",
       "      <td>57227415</td>\n",
       "    </tr>\n",
       "  </tbody>\n",
       "</table>\n",
       "</div>"
      ],
      "text/plain": [
       "   chromosomes  basepairs\n",
       "0            1  248956422\n",
       "1            2  242193529\n",
       "2            3  198295559\n",
       "3            4  190214555\n",
       "4            5  181538259\n",
       "5            6  170805979\n",
       "6            7  159345973\n",
       "7            8  145138636\n",
       "8            9  138394717\n",
       "9           10  133797422\n",
       "10          11  135086622\n",
       "11          12  133275309\n",
       "12          13  114364328\n",
       "13          14  107043718\n",
       "14          15  101991189\n",
       "15          16   90338345\n",
       "16          17   83257441\n",
       "17          18   80373285\n",
       "18          19   58617616\n",
       "19          20   64444167\n",
       "20          21   46709983\n",
       "21          22   50818468\n",
       "22           X  156040895\n",
       "23           Y   57227415"
      ]
     },
     "execution_count": 13,
     "metadata": {},
     "output_type": "execute_result"
    }
   ],
   "source": [
    "data"
   ]
  },
  {
   "cell_type": "code",
   "execution_count": 20,
   "id": "7ef858d9-331c-4fa0-8989-56b6b484424b",
   "metadata": {},
   "outputs": [
    {
     "data": {
      "text/plain": [
       "0     2489564.22\n",
       "1     2421935.29\n",
       "2     1982955.59\n",
       "3     1902145.55\n",
       "4     1815382.59\n",
       "5     1708059.79\n",
       "6     1593459.73\n",
       "7     1451386.36\n",
       "8     1383947.17\n",
       "9     1337974.22\n",
       "10    1350866.22\n",
       "11    1332753.09\n",
       "12    1143643.28\n",
       "13    1070437.18\n",
       "14    1019911.89\n",
       "15     903383.45\n",
       "16     832574.41\n",
       "17     803732.85\n",
       "18     586176.16\n",
       "19     644441.67\n",
       "20     467099.83\n",
       "21     508184.68\n",
       "22    1560408.95\n",
       "23     572274.15\n",
       "Name: sequencing_cost_2001, dtype: float64"
      ]
     },
     "execution_count": 20,
     "metadata": {},
     "output_type": "execute_result"
    }
   ],
   "source": [
    "data[\"sequencing_cost_2001\"] = (data[\"basepairs\"]*cost_2001)/(10**6)\n",
    "data[\"sequencing_cost_2001\"]"
   ]
  },
  {
   "cell_type": "code",
   "execution_count": 32,
   "id": "1f3846ea-a9bd-46d4-ba4e-157b7a0873c8",
   "metadata": {},
   "outputs": [
    {
     "name": "stdout",
     "output_type": "stream",
     "text": [
      "30882698.32\n"
     ]
    }
   ],
   "source": [
    "total_2001 = data[\"sequencing_cost_2001\"].sum()\n",
    "print(total_2001)"
   ]
  },
  {
   "cell_type": "code",
   "execution_count": 33,
   "id": "41accac6-7a07-4070-affb-9155236d939a",
   "metadata": {},
   "outputs": [
    {
     "data": {
      "text/plain": [
       "0     24.895642\n",
       "1     24.219353\n",
       "2     19.829556\n",
       "3     19.021455\n",
       "4     18.153826\n",
       "5     17.080598\n",
       "6     15.934597\n",
       "7     14.513864\n",
       "8     13.839472\n",
       "9     13.379742\n",
       "10    13.508662\n",
       "11    13.327531\n",
       "12    11.436433\n",
       "13    10.704372\n",
       "14    10.199119\n",
       "15     9.033834\n",
       "16     8.325744\n",
       "17     8.037328\n",
       "18     5.861762\n",
       "19     6.444417\n",
       "20     4.670998\n",
       "21     5.081847\n",
       "22    15.604090\n",
       "23     5.722741\n",
       "Name: sequencing_cost_2011, dtype: float64"
      ]
     },
     "execution_count": 33,
     "metadata": {},
     "output_type": "execute_result"
    }
   ],
   "source": [
    "data[\"sequencing_cost_2011\"] = (data[\"basepairs\"]*cost_2011)/(10**6)\n",
    "data[\"sequencing_cost_2011\"]"
   ]
  },
  {
   "cell_type": "code",
   "execution_count": 34,
   "id": "07f7066b-7d82-4a1e-8a15-ce3d48a3b164",
   "metadata": {},
   "outputs": [
    {
     "name": "stdout",
     "output_type": "stream",
     "text": [
      "308.8269832\n"
     ]
    }
   ],
   "source": [
    "total_2011 = data[\"sequencing_cost_2011\"].sum()\n",
    "print(total_2011)"
   ]
  },
  {
   "cell_type": "code",
   "execution_count": 35,
   "id": "610f7a8f-8228-45e4-84ff-32ab1e6393a2",
   "metadata": {},
   "outputs": [
    {
     "data": {
      "text/plain": [
       "0     2.489564\n",
       "1     2.421935\n",
       "2     1.982956\n",
       "3     1.902146\n",
       "4     1.815383\n",
       "5     1.708060\n",
       "6     1.593460\n",
       "7     1.451386\n",
       "8     1.383947\n",
       "9     1.337974\n",
       "10    1.350866\n",
       "11    1.332753\n",
       "12    1.143643\n",
       "13    1.070437\n",
       "14    1.019912\n",
       "15    0.903383\n",
       "16    0.832574\n",
       "17    0.803733\n",
       "18    0.586176\n",
       "19    0.644442\n",
       "20    0.467100\n",
       "21    0.508185\n",
       "22    1.560409\n",
       "23    0.572274\n",
       "Name: sequencing_cost_2021, dtype: float64"
      ]
     },
     "execution_count": 35,
     "metadata": {},
     "output_type": "execute_result"
    }
   ],
   "source": [
    "data[\"sequencing_cost_2021\"] = (data[\"basepairs\"]*cost_2021)/(10**6)\n",
    "data[\"sequencing_cost_2021\"]"
   ]
  },
  {
   "cell_type": "code",
   "execution_count": 36,
   "id": "9caa45f2-a5ec-4de5-8be6-114f05b829c7",
   "metadata": {},
   "outputs": [
    {
     "name": "stdout",
     "output_type": "stream",
     "text": [
      "30.882698320000003\n"
     ]
    }
   ],
   "source": [
    "total_2021 = data[\"sequencing_cost_2021\"].sum()\n",
    "print(total_2021)"
   ]
  },
  {
   "cell_type": "code",
   "execution_count": 37,
   "id": "3bf06b26-704f-42d8-8213-0dcbe587ad31",
   "metadata": {},
   "outputs": [
    {
     "name": "stdout",
     "output_type": "stream",
     "text": [
      "The total cost in 2001 was $ 30882698.32 , the total cost in 2011 was $ 308.8269832 , and the total cost in 2021 was $ 30.882698320000003\n"
     ]
    }
   ],
   "source": [
    "print(\"The total cost in 2001 was $\", total_2001, \", the total cost in 2011 was $\", total_2011, \", and the total cost in 2021 was $\", total_2021)"
   ]
  },
  {
   "cell_type": "code",
   "execution_count": null,
   "id": "05ffd8c4-8f56-4d78-9647-67a2d229e40e",
   "metadata": {},
   "outputs": [],
   "source": []
  }
 ],
 "metadata": {
  "kernelspec": {
   "display_name": "Python 3 (ipykernel)",
   "language": "python",
   "name": "python3"
  },
  "language_info": {
   "codemirror_mode": {
    "name": "ipython",
    "version": 3
   },
   "file_extension": ".py",
   "mimetype": "text/x-python",
   "name": "python",
   "nbconvert_exporter": "python",
   "pygments_lexer": "ipython3",
   "version": "3.9.12"
  }
 },
 "nbformat": 4,
 "nbformat_minor": 5
}
